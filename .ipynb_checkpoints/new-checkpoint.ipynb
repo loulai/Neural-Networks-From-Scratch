{
 "cells": [
  {
   "cell_type": "code",
   "execution_count": 77,
   "metadata": {},
   "outputs": [],
   "source": [
    "import random\n",
    "import time\n",
    "from sys import exit\n",
    "from random import randint\n",
    "import numpy as np"
   ]
  },
  {
   "cell_type": "code",
   "execution_count": 111,
   "metadata": {},
   "outputs": [
    {
     "name": "stdout",
     "output_type": "stream",
     "text": [
      "[[2.6094379124341005, 2.6094379124341005, 5.218875824868201], [1.0, 2.09861228866811, 3.09861228866811], [1.0, 1.6931471805599454, 2.6931471805599454], [2.3862943611198908, 1.6931471805599454, 4.0794415416798362], [1.6931471805599454, 1.0, 2.6931471805599454], [2.6094379124341005, 2.6094379124341005, 5.218875824868201], [2.3862943611198908, 2.3862943611198908, 4.7725887222397816], [2.3862943611198908, 2.6094379124341005, 4.9957322735539913]]\n",
      "[[3, 5, 15], [3, 5, 15], [4, 2, 8], [4, 1, 4], [1, 2, 2], [2, 3, 6], [4, 4, 16], [3, 4, 12]]\n"
     ]
    }
   ],
   "source": [
    "rate = 0.04\n",
    "neurons = [0.0, 0.0]        # Will be initialized in main by test values.\n",
    "weights = [random.uniform(0, 1), random.uniform(0, 1)]\n",
    "\"\"\"\n",
    "test = [ [3, 2, 5],      # The test arrays are stored in the format:\n",
    "         [6, 6, 12],     # [input1, input2, target_output]\n",
    "         [10, 3, 13],    # Thus the inputs will be called as:\n",
    "         [4, 7, 11],     # test_in[0] with test_in[1] and the weights will\n",
    "         [2, 8, 10]]     # be adjusted using test_in[2] as the target.\n",
    "\"\"\"\n",
    "\n",
    "# Training set creation\n",
    "test_raw = []\n",
    "test = []\n",
    "targets = []       \n",
    "N = 8 # number of cases in training dataset\n",
    "R = 5 # range of values from 0 to R\n",
    "for i in range(N):\n",
    "    first_raw = randint(1,R)\n",
    "    second_raw = randint(1,R)\n",
    "    answer_raw = first_raw * second_raw \n",
    "    test_raw.append([first_raw, second_raw, answer_raw])\n",
    "    \n",
    "    first = np.log(first_raw)+ 1\n",
    "    second = np.log(second_raw) + 1\n",
    "    answer = first + second\n",
    "    test.append([first, second, answer])\n",
    "    targets.append(answer)\n",
    "    \n",
    "bias = 1\n",
    "print test\n",
    "#print targets\n",
    "print raw_test"
   ]
  },
  {
   "cell_type": "code",
   "execution_count": null,
   "metadata": {},
   "outputs": [],
   "source": []
  },
  {
   "cell_type": "code",
   "execution_count": 112,
   "metadata": {},
   "outputs": [
    {
     "name": "stdout",
     "output_type": "stream",
     "text": [
      "input   : [5, 5]\n",
      "input   : [1, 3]\n",
      "input   : [1, 2]\n",
      "input   : [4, 2]\n",
      "input   : [2, 1]\n",
      "input   : [5, 5]\n",
      "input   : [4, 4]\n",
      "input   : [4, 5]\n",
      "[3.9283493295838694, 4.7199210734554127, 2.420310433329715, 3.2802369226645647, 3.4170513430355438, 4.337830510806473, 5.3738221431924389, 4.6965672179908751]\n",
      "('current error', 0.83272931751543)\n",
      "('current error', 1.3143210878142402)\n",
      "('current error', 0.037219945319586327)\n",
      "('current error', 0.31936401152767263)\n",
      "('current error', 0.26201861822474881)\n",
      "('current error', 0.38812042271506447)\n",
      "('current error', 0.18074081323521762)\n",
      "('current error', 0.044749865235041208)\n",
      "('AVERAGE ERRROR==========================', 0.42240801019837521)\n",
      "\n",
      "Final results:  \n",
      "[3.9283493295838694, 4.7199210734554127, 2.420310433329715, 3.2802369226645647, 3.4170513430355438, 4.337830510806473, 5.3738221431924389, 4.6965672179908751]\n",
      "Target       : \n",
      "[5.218875824868201, 3.09861228866811, 2.6931471805599454, 4.0794415416798362, 2.6931471805599454, 5.218875824868201, 4.7725887222397816, 4.9957322735539913]\n",
      "Epochs 0\n",
      "Weight0: 0.483441938212\n",
      "Weight1: 0.91797196658\n",
      "Bias   : 1.59633186294\n"
     ]
    },
    {
     "ename": "SystemExit",
     "evalue": "",
     "output_type": "error",
     "traceback": [
      "An exception has occurred, use %tb to see the full traceback.\n",
      "\u001b[0;31mSystemExit\u001b[0m\n"
     ]
    }
   ],
   "source": [
    "def output(threshold):      # Will be 1, since we will train with positive #s.\n",
    "    global neurons, weights\n",
    "    s = neurons[0] * weights[0] + neurons[1] * weights[1] + bias\n",
    "    if s > threshold:\n",
    "        return s\n",
    "    return 0\n",
    "\n",
    "epoches = 0\n",
    "res = []           # the addition results calculated by the neural network as a list\n",
    "while 1:\n",
    "    for i in range(len(test)):  # Loop through the training dataset\n",
    "        neurons[0] = test[i][0] # Give input values \n",
    "        neurons[1] = test[i][1] \n",
    "        out = output(2)\n",
    "        res.append(out)\n",
    "        # Weights adjusted according to the formula:\n",
    "        # Wnew = Wold + rate * [Target - Actual] * input\n",
    "        weights[0] = weights[0] + rate * (test[i][2] - out) * neurons[0]\n",
    "        weights[1] = weights[1] + rate * (test[i][2] - out) * neurons[1]\n",
    "        # Adjust bias based on the formula:\n",
    "        # Bias_new = Bias_old + (Target - Actual)\n",
    "        bias = bias + test[i][2] - out\n",
    "        if out == test[i][2]:     # If we got our expected output...\n",
    "            print(\"{0} is indeed equal to {1}!!!\".format(out, test[i][2]))\n",
    "            print(\"Number of epoches so far = {0}\".format(epoches))\n",
    "        else:\n",
    "            print(\"input   : [%d, %d]\" % (test_raw[i][0], test_raw[i][1]))\n",
    "            print(\"output  : [%f]\" % out)\n",
    "            \"\"\"\n",
    "            print(\"input   : [%.4f, %.4f]\" % (test[i][0], test[i][1]))\n",
    "            print(\"target  : [%.4f]\" % test[i][2])\n",
    "            print(\"output  : [%.4f]\" % out)\n",
    "            print(\"====================\\n\")\n",
    "            \"\"\"\n",
    "    print res\n",
    "    \n",
    "    # Termination condition: when average error sufficiently low\n",
    "    average_error = 0\n",
    "    for i in range(len(res)):\n",
    "        current_error = 0.5 * ((res[i] - targets[i]) ** 2) # least squares error\n",
    "        print(\"current error\", current_error)\n",
    "        average_error = average_error + current_error/len(res) \n",
    "    \n",
    "    print (\"AVERAGE ERRROR==========================\" , average_error)\n",
    "    # if the calculated results are very near the real results stop and print some data\n",
    "    if average_error < 0.9: \n",
    "       print \"\"\n",
    "       print\"Final results:  \\n%s\" % res\n",
    "       print\"Target       : \\n%s\" % targets\n",
    "       print\"Epochs %s\" % epoches\n",
    "       print\"Weight0: %s\" % weights[0]\n",
    "       print\"Weight1: %s\" % weights[1]\n",
    "       print\"Bias   : %s\" % bias\n",
    "       exit()\n",
    "        \n",
    "    epoches += 1\n",
    "    res = []\n",
    "    print(\"Weight1 is {0}\\nWeight2 is {1}\".format(weights[0], weights[1]))\n",
    "    print(\"-\" * 79 + \"\\n\\n\")\n",
    "    if epoches % 10000 == 0:\n",
    "        print(\"Current at {0} epoches.\".format(epoches))\n"
   ]
  },
  {
   "cell_type": "code",
   "execution_count": null,
   "metadata": {},
   "outputs": [],
   "source": []
  }
 ],
 "metadata": {
  "kernelspec": {
   "display_name": "Python 2",
   "language": "python",
   "name": "python2"
  },
  "language_info": {
   "codemirror_mode": {
    "name": "ipython",
    "version": 2
   },
   "file_extension": ".py",
   "mimetype": "text/x-python",
   "name": "python",
   "nbconvert_exporter": "python",
   "pygments_lexer": "ipython2",
   "version": "2.7.14"
  }
 },
 "nbformat": 4,
 "nbformat_minor": 2
}
